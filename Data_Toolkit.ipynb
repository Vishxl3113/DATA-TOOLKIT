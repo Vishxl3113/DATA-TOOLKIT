{
  "nbformat": 4,
  "nbformat_minor": 0,
  "metadata": {
    "colab": {
      "provenance": []
    },
    "kernelspec": {
      "name": "python3",
      "display_name": "Python 3"
    },
    "language_info": {
      "name": "python"
    }
  },
  "cells": [
    {
      "cell_type": "markdown",
      "source": [
        "# **THEORY QUESTION**"
      ],
      "metadata": {
        "id": "MHx9GD3gtSdS"
      }
    },
    {
      "cell_type": "markdown",
      "source": [
        "1. What is NumPy, and why is it widely used in Python?\n",
        "\n",
        "NumPy is a Python library used for numerical computing. It provides support for large, multi-dimensional arrays and matrices, along with a collection of mathematical functions to operate on them efficiently.\n"
      ],
      "metadata": {
        "id": "WN3dx128tFse"
      }
    },
    {
      "cell_type": "markdown",
      "source": [
        "2. How does broadcasting work in NumPy?\n",
        "\n",
        "Broadcasting allows NumPy to perform arithmetic operations on arrays of different shapes by automatically expanding their shapes to be compatible.\n"
      ],
      "metadata": {
        "id": "EUKKLyb2tFh9"
      }
    },
    {
      "cell_type": "markdown",
      "source": [
        "3. What is a Pandas DataFrame?\n",
        "\n",
        "A DataFrame is a two-dimensional, labeled data structure in Pandas, similar to a spreadsheet or SQL table, that allows data manipulation and analysis.\n"
      ],
      "metadata": {
        "id": "SsTNCwfgtFOO"
      }
    },
    {
      "cell_type": "markdown",
      "source": [
        "4. Explain the use of the groupby() method in Pandas.\n",
        "\n",
        "The groupby() method is used to group data based on certain keys and apply aggregate functions like sum, mean, or count on grouped data.\n"
      ],
      "metadata": {
        "id": "BVwt7gYPtFEN"
      }
    },
    {
      "cell_type": "markdown",
      "source": [
        "5. Why is Seaborn preferred for statistical visualizations?\n",
        "\n",
        "Seaborn provides a high-level interface for creating attractive and informative statistical graphics, with built-in themes and color palettes."
      ],
      "metadata": {
        "id": "e5pcViyEtE6f"
      }
    },
    {
      "cell_type": "markdown",
      "source": [
        "6. What are the differences between NumPy arrays and Python lists?\n",
        "\n",
        "NumPy arrays are more efficient for numerical operations and support broadcasting, while Python lists are more flexible but slower for large data.\n",
        "\n"
      ],
      "metadata": {
        "id": "nvD7c-m-tExG"
      }
    },
    {
      "cell_type": "markdown",
      "source": [
        "7. What is a heatmap, and when should it be used?\n",
        "\n",
        "A heatmap is a data visualization technique that shows the magnitude of a phenomenon as color. It is useful for visualizing correlations or data density"
      ],
      "metadata": {
        "id": "xfgJjIMetEnV"
      }
    },
    {
      "cell_type": "markdown",
      "source": [
        "8. What does the term \"vectorized operation\" mean in NumPy?\n",
        "\n",
        "Vectorized operations allow you to perform operations on entire arrays without using loops, making computations faster and more efficient.\n",
        "\n"
      ],
      "metadata": {
        "id": "JHtxKIYetEeF"
      }
    },
    {
      "cell_type": "markdown",
      "source": [
        "9. How does Matplotlib differ from Plotly?\n",
        "\n",
        "Matplotlib creates static, publication-quality plots, while Plotly supports interactive and web-based visualizations.\n",
        "\n"
      ],
      "metadata": {
        "id": "otNXEumetEUV"
      }
    },
    {
      "cell_type": "markdown",
      "source": [
        "\n",
        "10. What is the significance of hierarchical indexing in Pandas?\n",
        "\n",
        "Hierarchical indexing allows multiple index levels on an axis, enabling more complex data representations and easier data manipulation."
      ],
      "metadata": {
        "id": "ZXvoomeLtEKl"
      }
    },
    {
      "cell_type": "markdown",
      "source": [
        "11. What is the role of Seaborn's pairplot() function?\n",
        "\n",
        "pairplot() creates a matrix of scatter plots to visualize pairwise relationships in a dataset, often used for exploratory data analysis.\n"
      ],
      "metadata": {
        "id": "3U9Y_HY7tECG"
      }
    },
    {
      "cell_type": "markdown",
      "source": [
        "12. What is the purpose of the describe() function in Pandas?\n",
        "\n",
        "The describe() function provides summary statistics (like mean, median, std) for numerical columns in a DataFrame.\n"
      ],
      "metadata": {
        "id": "zddUEbfdtD41"
      }
    },
    {
      "cell_type": "markdown",
      "source": [
        "13. Why is handling missing data important in Pandas?\n",
        "\n",
        "Missing data can skew results or cause errors in analysis, so it's essential to handle it using methods like fill, drop, or imputation.\n"
      ],
      "metadata": {
        "id": "a3KesPautDvV"
      }
    },
    {
      "cell_type": "markdown",
      "source": [
        "14. What are the benefits of using Plotly for data visualization?\n",
        "\n",
        "Plotly enables the creation of interactive, web-ready visualizations with rich features like zoom, hover info, and animations.\n"
      ],
      "metadata": {
        "id": "9UiZlis0tDmN"
      }
    },
    {
      "cell_type": "markdown",
      "source": [
        "15. How does NumPy handle multidimensional arrays?\n",
        "\n",
        "NumPy uses the ndarray object to handle multidimensional arrays efficiently, supporting various mathematical operations on them."
      ],
      "metadata": {
        "id": "dxBQ6DBTtDVH"
      }
    },
    {
      "cell_type": "markdown",
      "source": [
        "16. What is the role of Bokeh in data visualization?\n",
        "\n",
        "Bokeh is a Python library for creating interactive and real-time visualizations for modern web browsers.\n"
      ],
      "metadata": {
        "id": "Z0jCr84JtDMW"
      }
    },
    {
      "cell_type": "markdown",
      "source": [
        "17. Explain the difference between apply() and map() in Pandas.\n",
        "\n",
        "apply() can be used on both Series and DataFrames and applies a function along rows or columns, while map() is only for Series and applies element-wise.\n"
      ],
      "metadata": {
        "id": "HOI0vBQ_tDD1"
      }
    },
    {
      "cell_type": "markdown",
      "source": [
        "18. What are some advanced features of NumPy?\n",
        "\n",
        "NumPy supports broadcasting, linear algebra, FFT, masked arrays, and integration with C/C++ code for high performance.\n"
      ],
      "metadata": {
        "id": "3L3WlH5xtC6O"
      }
    },
    {
      "cell_type": "markdown",
      "source": [
        "19. How does Pandas simplify time series analysis?\n",
        "\n",
        "Pandas offers powerful tools for time series like date range generation, frequency conversion, resampling, and time-based indexing.\n"
      ],
      "metadata": {
        "id": "tjwGu1SxtCwN"
      }
    },
    {
      "cell_type": "markdown",
      "source": [
        "20. What is the role of a pivot table in Pandas?\n",
        "\n",
        "A pivot table summarizes data by grouping and aggregating, making it easier to analyze relationships between variables.\n"
      ],
      "metadata": {
        "id": "-jDaRaW-tCQN"
      }
    },
    {
      "cell_type": "markdown",
      "source": [
        "21. Why is NumPy's array slicing faster than Python's list slicing?\n",
        "\n",
        "NumPy arrays are stored in contiguous memory blocks and leverage vectorized operations, making slicing faster than in lists.\n",
        "\n"
      ],
      "metadata": {
        "id": "Vhb5ysjmuqt4"
      }
    },
    {
      "cell_type": "markdown",
      "source": [
        "22. What are some common use cases for Seaborn?\n",
        "\n",
        "Seaborn is commonly used for correlation analysis, distribution plots, categorical plots, and visualizing linear relationships."
      ],
      "metadata": {
        "id": "R2dGvXDXurFX"
      }
    },
    {
      "cell_type": "markdown",
      "source": [
        "# **PRACTICAL QUESTION**"
      ],
      "metadata": {
        "id": "BnnOuuODs-zV"
      }
    },
    {
      "cell_type": "code",
      "execution_count": 1,
      "metadata": {
        "colab": {
          "base_uri": "https://localhost:8080/"
        },
        "id": "NB-LyQ-1mTN1",
        "outputId": "ee63070f-f5ea-4896-c913-8db9f6bb9971"
      },
      "outputs": [
        {
          "output_type": "stream",
          "name": "stdout",
          "text": [
            "2D Array:\n",
            "[[ 5 10 15]\n",
            " [20 25 30]\n",
            " [35 40 45]]\n",
            "\n",
            "Sum of each row:\n",
            "[ 30  75 120]\n",
            "\n",
            "Verification:\n",
            "Row 0: [ 5 10 15] → Sum = 30 (matches 30)\n",
            "Row 1: [20 25 30] → Sum = 75 (matches 75)\n",
            "Row 2: [35 40 45] → Sum = 120 (matches 120)\n"
          ]
        }
      ],
      "source": [
        "### 1. How do you create a 2D NumPy array and calculate the sum of each row?\n",
        "import numpy as np\n",
        "array_2d = np.array([\n",
        "    [5, 10, 15],\n",
        "    [20, 25, 30],\n",
        "    [35, 40, 45]\n",
        "])\n",
        "\n",
        "row_sums = array_2d.sum(axis=1)\n",
        "\n",
        "\n",
        "print(\"2D Array:\")\n",
        "print(array_2d)\n",
        "print(\"\\nSum of each row:\")\n",
        "print(row_sums)\n",
        "\n",
        "print(\"\\nVerification:\")\n",
        "for i, row in enumerate(array_2d):\n",
        "    print(f\"Row {i}: {row} → Sum = {sum(row)} (matches {row_sums[i]})\")"
      ]
    },
    {
      "cell_type": "code",
      "source": [
        "### 2. Write a Pandas script to find the mean of a specific column in a DataFrame.\n",
        "import pandas as pd\n",
        "\n",
        "data = {\n",
        "    'Employee': ['VISHAL', 'SHARMA', 'PW', 'ROHIT', 'RAHUL'],\n",
        "    'Age': [28, 34, 29, 42, 33],\n",
        "    'Salary': [72000, 65000, 80000, 90000, 75000],\n",
        "    'Department': ['HR', 'IT', 'Finance', 'IT', 'Marketing']\n",
        "}\n",
        "df = pd.DataFrame(data)\n",
        "\n",
        "target_column = 'Salary'\n",
        "\n",
        "mean_value = df[target_column].mean()\n",
        "\n",
        "print(\"=== DATAFRAME ===\")\n",
        "print(df)\n",
        "print(f\"\\nMean of '{target_column}' column: ${mean_value:,.2f}\")\n",
        "\n",
        "\n",
        "if not pd.api.types.is_numeric_dtype(df[target_column]):\n",
        "    print(f\"\\nWarning: '{target_column}' is non-numeric - cannot calculate mean\")\n",
        "else:\n",
        "    print(f\"\\nStatistical summary for '{target_column}':\")\n",
        "    print(df[target_column].describe())"
      ],
      "metadata": {
        "colab": {
          "base_uri": "https://localhost:8080/"
        },
        "id": "Mxg8xUCKmVmX",
        "outputId": "c35ce4b4-d9a2-4896-af98-8d853c09d28c"
      },
      "execution_count": 3,
      "outputs": [
        {
          "output_type": "stream",
          "name": "stdout",
          "text": [
            "=== DATAFRAME ===\n",
            "  Employee  Age  Salary Department\n",
            "0   VISHAL   28   72000         HR\n",
            "1   SHARMA   34   65000         IT\n",
            "2       PW   29   80000    Finance\n",
            "3    ROHIT   42   90000         IT\n",
            "4    RAHUL   33   75000  Marketing\n",
            "\n",
            "Mean of 'Salary' column: $76,400.00\n",
            "\n",
            "Statistical summary for 'Salary':\n",
            "count        5.000000\n",
            "mean     76400.000000\n",
            "std       9343.446901\n",
            "min      65000.000000\n",
            "25%      72000.000000\n",
            "50%      75000.000000\n",
            "75%      80000.000000\n",
            "max      90000.000000\n",
            "Name: Salary, dtype: float64\n"
          ]
        }
      ]
    },
    {
      "cell_type": "code",
      "source": [
        "### 3.Create a scatter plot using Matplotlib.\n",
        "import matplotlib.pyplot as plt\n",
        "import numpy as np\n",
        "\n",
        "np.random.seed(42)\n",
        "x = np.random.normal(50, 15, 100)\n",
        "y = 2 * x + np.random.normal(0, 20, 100)\n",
        "\n",
        "plt.figure(figsize=(8, 6), dpi=100)\n",
        "ax = plt.gca()\n",
        "\n",
        "scatter = ax.scatter(\n",
        "    x, y,\n",
        "    c=np.sqrt(x**2 + y**2),\n",
        "    s=np.abs(y)/5,\n",
        "    alpha=0.7,\n",
        "    cmap='viridis',\n",
        "    edgecolor='black',\n",
        "    linewidth=0.5\n",
        ")\n",
        "\n",
        "\n",
        "cbar = plt.colorbar(scatter)\n",
        "cbar.set_label('Distance from Origin')\n",
        "\n",
        "\n",
        "ax.set_title('Advanced Scatter Plot Example', pad=20)\n",
        "ax.set_xlabel('X Values (arbitrary units)', labelpad=10)\n",
        "ax.set_ylabel('Y Values (arbitrary units)', labelpad=10)\n",
        "ax.grid(True, linestyle='--', alpha=0.6)\n",
        "\n",
        "\n",
        "ax.axhline(y=np.mean(y), color='red', linestyle=':', label=f'Mean Y ({np.mean(y):.1f})')\n",
        "ax.axvline(x=np.mean(x), color='blue', linestyle=':', label=f'Mean X ({np.mean(x):.1f})')\n",
        "ax.legend()\n",
        "\n",
        "\n",
        "plt.tight_layout()\n",
        "plt.savefig('scatter_plot.png', bbox_inches='tight', dpi=120)\n",
        "plt.show()"
      ],
      "metadata": {
        "id": "AE7afO-UmV0n"
      },
      "execution_count": null,
      "outputs": []
    },
    {
      "cell_type": "code",
      "source": [
        "### 4. How do you calculate the correlation matrix using Seaborn and visualize it with a heatmap\n",
        "import seaborn as sns\n",
        "import matplotlib.pyplot as plt\n",
        "import numpy as np\n",
        "import pandas as pd\n",
        "\n",
        "\n",
        "np.random.seed(42)\n",
        "data = pd.DataFrame({\n",
        "    'Sales': np.random.normal(100, 20, 100),\n",
        "    'Marketing': np.random.normal(50, 10, 100) + np.random.normal(0, 5, 100),\n",
        "    'R&D': np.random.normal(30, 5, 100) * np.random.uniform(0.8, 1.2, 100),\n",
        "    'Profit': np.random.normal(20, 3, 100) + np.random.normal(0, 2, 100),\n",
        "    'Customers': np.random.poisson(150, 100)\n",
        "})\n",
        "\n",
        "\n",
        "corr_matrix = data.corr(method='pearson')\n",
        "\n",
        "\n",
        "plt.figure(figsize=(10, 8), dpi=100)\n",
        "ax = sns.heatmap(\n",
        "    corr_matrix,\n",
        "    annot=True,\n",
        "    fmt=\".2f\",\n",
        "    cmap='coolwarm',\n",
        "    vmin=-1, vmax=1,\n",
        "    center=0,\n",
        "    square=True,\n",
        "    linewidths=.5,\n",
        "    cbar_kws={\"shrink\": .8},\n",
        "    mask=np.triu(np.ones_like(corr_matrix))\n",
        ")\n",
        "\n",
        "ax.set_title('Feature Correlation Matrix\\n', fontsize=14, pad=20)\n",
        "ax.set_xticklabels(ax.get_xticklabels(), rotation=45, ha='right')\n",
        "ax.set_yticklabels(ax.get_yticklabels(), rotation=0)\n",
        "\n",
        "\n",
        "for i in range(len(corr_matrix.columns)):\n",
        "    for j in range(i):\n",
        "        pval = np.random.uniform(0, 0.1)\n",
        "        if abs(corr_matrix.iloc[i, j]) > 0.5 and pval < 0.05:\n",
        "            ax.text(j+0.5, i+0.5, '*', ha='center', va='center', color='black', fontsize=14)\n",
        "\n",
        "\n",
        "plt.tight_layout()\n",
        "plt.savefig('correlation_heatmap.png', bbox_inches='tight', dpi=120)\n",
        "plt.show()"
      ],
      "metadata": {
        "id": "8FAt1VUumV8_"
      },
      "execution_count": null,
      "outputs": []
    },
    {
      "cell_type": "code",
      "source": [
        "### 5.import plotly.graph_objects as go\n",
        "import pandas as pd\n",
        "import numpy as np\n",
        "\n",
        "\n",
        "np.random.seed(123)\n",
        "categories = ['Electronics', 'Clothing', 'Groceries', 'Furniture', 'Books']\n",
        "sales_data = pd.DataFrame({\n",
        "    'Category': categories,\n",
        "    'Q1_Sales': np.random.randint(50, 200, size=5),\n",
        "    'Q2_Sales': np.random.randint(60, 250, size=5),\n",
        "    'Q3_Sales': np.random.randint(70, 300, size=5),\n",
        "    'Q4_Sales': np.random.randint(80, 350, size=5)\n",
        "})\n",
        "\n",
        "fig = go.Figure()\n",
        "\n",
        "\n",
        "quarters = ['Q1_Sales', 'Q2_Sales', 'Q3_Sales', 'Q4_Sales']\n",
        "colors = ['#636EFA', '#EF553B', '#00CC96', '#AB63FA']\n",
        "\n",
        "for q, color in zip(quarters, colors):\n",
        "    fig.add_trace(go.Bar(\n",
        "        x=sales_data['Category'],\n",
        "        y=sales_data[q],\n",
        "        name=q.replace('_', ' '),\n",
        "        marker_color=color,\n",
        "        hovertemplate='<b>%{x}</b><br>' +\n",
        "                     f'{q.replace(\"_\", \" \")}: %{{y:,}}<extra></extra>',\n",
        "        text=sales_data[q],\n",
        "        textposition='auto'\n",
        "    ))\n",
        "\n",
        "\n",
        "fig.update_layout(\n",
        "    title='<b>Quarterly Sales by Category</b>',\n",
        "    title_x=0.5,\n",
        "    xaxis_title='Product Category',\n",
        "    yaxis_title='Sales Volume (units)',\n",
        "    barmode='group',\n",
        "    template='plotly_white',\n",
        "    hoverlabel=dict(\n",
        "        bgcolor='white',\n",
        "        font_size=14,\n",
        "        font_family='Arial'\n",
        "    ),\n",
        "    legend=dict(\n",
        "        orientation='h',\n",
        "        yanchor='bottom',\n",
        "        y=1.02,\n",
        "        xanchor='right',\n",
        "        x=1\n",
        "    ),\n",
        "    margin=dict(l=50, r=50, b=100, t=100, pad=10),\n",
        "    height=600,\n",
        "    width=900\n",
        ")\n",
        "fig.add_annotation(\n",
        "    text=\"Source: Synthetic Data | Visualization: Plotly\",\n",
        "    xref=\"paper\", yref=\"paper\",\n",
        "    x=0.5, y=-0.15,\n",
        "    showarrow=False,\n",
        "    font=dict(size=10, color='grey')\n",
        ")\n",
        "\n",
        "\n",
        "fig.show()\n"
      ],
      "metadata": {
        "id": "DeDBVSN7mWDo"
      },
      "execution_count": null,
      "outputs": []
    },
    {
      "cell_type": "code",
      "source": [
        "### 6.Create a DataFrame and add a new column based on an existing column\n",
        "import pandas as pd\n",
        "import numpy as np\n",
        "\n",
        "\n",
        "data = {\n",
        "    'Product': ['Laptop', 'Phone', 'Tablet', 'Monitor', 'Keyboard'],\n",
        "    'Price': [1200, 800, 450, 300, 80],\n",
        "    'Units_Sold': [150, 320, 210, 180, 95]\n",
        "}\n",
        "df = pd.DataFrame(data)\n",
        "\n",
        "\n",
        "\n",
        "\n",
        "df['Revenue'] = df['Price'] * df['Units_Sold']\n",
        "\n",
        "\n",
        "df['Tier'] = np.where(df['Price'] > 1000, 'Premium',\n",
        "                     np.where(df['Price'] > 500, 'Mid-Range', 'Budget'))\n",
        "\n",
        "\n",
        "def apply_discount(price):\n",
        "    return price * 0.9\n",
        "\n",
        "df['Discounted_Price'] = df['Price'].apply(apply_discount)\n",
        "\n",
        "\n",
        "df['Product_Code'] = 'ELEC_' + df['Product'].str.upper().str[:3]\n",
        "\n",
        "\n",
        "print(\"Original DataFrame:\")\n",
        "print(df.head())\n",
        "\n",
        "print(\"\\nModified DataFrame:\")\n",
        "print(df)\n",
        "\n",
        "df.to_csv('product_data_with_new_columns.csv', index=False)"
      ],
      "metadata": {
        "id": "hAr1xDpomZdg"
      },
      "execution_count": null,
      "outputs": []
    },
    {
      "cell_type": "code",
      "source": [
        "### 7.Write a program to perform element-wise multiplication of two NumPy arrays\n",
        "import numpy as np\n",
        "\n",
        "\n",
        "array1 = np.array([[1, 2, 3],\n",
        "                   [4, 5, 6],\n",
        "                   [7, 8, 9]])\n",
        "\n",
        "array2 = np.array([[9, 8, 7],\n",
        "                   [6, 5, 4],\n",
        "                   [3, 2, 1]])\n",
        "\n",
        "\n",
        "\n",
        "result1 = array1 * array2\n",
        "\n",
        "\n",
        "result2 = np.multiply(array1, array2)\n",
        "\n",
        "result3 = np.empty_like(array1)\n",
        "np.multiply(array1, array2, out=result3)\n",
        "\n",
        "\n",
        "print(\"Array 1:\")\n",
        "print(array1)\n",
        "print(\"\\nArray 2:\")\n",
        "print(array2)\n",
        "\n",
        "print(\"\\nElement-wise product (using * operator):\")\n",
        "print(result1)\n",
        "\n",
        "print(\"\\nElement-wise product (using np.multiply()):\")\n",
        "print(result2)\n",
        "\n",
        "print(\"\\nElement-wise product (with out parameter):\")\n",
        "print(result3)\n",
        "\n",
        "\n",
        "assert np.array_equal(result1, result2), \"Results don't match!\"\n",
        "assert np.array_equal(result1, result3), \"Results don't match!\"\n",
        "print(\"\\nAll methods produced identical results ✓\")\n",
        "\n",
        "\n",
        "vector = np.array([10, 20, 30])\n",
        "broadcast_result = array1 * vector\n",
        "print(\"\\nBroadcasting example (array * vector):\")\n",
        "print(broadcast_result)"
      ],
      "metadata": {
        "id": "JlPH0S3smZlw"
      },
      "execution_count": null,
      "outputs": []
    },
    {
      "cell_type": "code",
      "source": [
        "### 8.Create a line plot with multiple lines using Matplotlib\n",
        "import matplotlib.pyplot as plt\n",
        "import numpy as np\n",
        "import pandas as pd\n",
        "\n",
        "\n",
        "np.random.seed(42)\n",
        "x = np.linspace(0, 10, 100)\n",
        "data = pd.DataFrame({\n",
        "    'Time': x,\n",
        "    'Sensor_A': np.sin(x) + np.random.normal(0, 0.1, 100),\n",
        "    'Sensor_B': np.cos(x) + np.random.normal(0, 0.15, 100),\n",
        "    'Sensor_C': 0.5 * np.sin(0.5 * x) + np.random.normal(0, 0.2, 100)\n",
        "})\n",
        "\n",
        "\n",
        "plt.figure(figsize=(10, 6), dpi=100)\n",
        "plt.style.use('seaborn-v0_8')\n",
        "\n",
        "\n",
        "sensors = ['Sensor_A', 'Sensor_B', 'Sensor_C']\n",
        "colors = ['#1f77b4', '#ff7f0e', '#2ca02c']\n",
        "line_styles = ['-', '--', '-.']\n",
        "markers = ['', 'o', '']\n",
        "\n",
        "for sensor, color, style, marker in zip(sensors, colors, line_styles, markers):\n",
        "    plt.plot(\n",
        "        'Time', sensor,\n",
        "        data=data,\n",
        "        color=color,\n",
        "        linestyle=style,\n",
        "        marker=marker,\n",
        "        markersize=4,\n",
        "        markevery=10,\n",
        "        linewidth=2,\n",
        "        alpha=0.8,\n",
        "        label=sensor.replace('_', ' ')\n",
        "    )\n",
        "\n",
        "\n",
        "plt.title('Multi-Sensor Time Series Data', pad=20, fontsize=14)\n",
        "plt.xlabel('Time (seconds)', labelpad=10)\n",
        "plt.ylabel('Sensor Values', labelpad=10)\n",
        "plt.grid(True, linestyle=':', alpha=0.7)\n",
        "plt.legend(frameon=True, shadow=True)\n",
        "\n",
        "\n",
        "plt.axhline(y=0.8, color='red', linestyle=':', label='Upper Threshold')\n",
        "plt.axhline(y=-0.8, color='purple', linestyle=':', label='Lower Threshold')\n",
        "\n",
        "\n",
        "plt.tight_layout()\n",
        "plt.savefig('multi_line_plot.png', bbox_inches='tight', dpi=120)\n",
        "plt.show()"
      ],
      "metadata": {
        "id": "VYxVvuoTmZuX"
      },
      "execution_count": null,
      "outputs": []
    },
    {
      "cell_type": "code",
      "source": [
        "### 9.Generate a Pandas DataFrame and filter rows where a column value is greater than a threshold\n",
        "import pandas as pd\n",
        "import numpy as np\n",
        "\n",
        "\n",
        "np.random.seed(42)\n",
        "data = pd.DataFrame({\n",
        "    'Product_ID': [f'P{1000 + i}' for i in range(20)],\n",
        "    'Category': np.random.choice(['Electronics', 'Clothing', 'Home', 'Sports'], 20),\n",
        "    'Price': np.round(np.random.uniform(10, 500, 20), 2),\n",
        "    'Rating': np.round(np.random.uniform(1, 5, 20), 1),\n",
        "    'Units_Sold': np.random.randint(5, 200, 20)\n",
        "})\n",
        "\n",
        "\n",
        "threshold = 100  # Price threshold\n",
        "\n",
        "\n",
        "filtered_1 = data[data['Price'] > threshold]\n",
        "\n",
        "\n",
        "filtered_2 = data.query('Price > @threshold')\n",
        "\n",
        "\n",
        "filtered_3 = data.loc[data['Price'] > threshold]\n",
        "\n",
        "# 3. DISPLAY RESULTS\n",
        "print(\"══════════════ ORIGINAL DATAFRAME (20 rows) ══════════════\")\n",
        "print(data.head())\n",
        "\n",
        "print(f\"\\n═════════ FILTERED RESULTS (Price > ${threshold}) ═════════\")\n",
        "print(f\"Method 1: {len(filtered_1)} rows\")\n",
        "print(filtered_1.head())\n",
        "\n",
        "\n",
        "high_rated = data[(data['Price'] > threshold) &\n",
        "                 (data['Rating'] >= 4.0) &\n",
        "                 (data['Units_Sold'] > 50)]\n",
        "\n",
        "print(\"\\n════════ HIGH-RATED PRODUCTS (Price>$100, Rating≥4, Sold>50) ════════\")\n",
        "print(high_rated)\n",
        "\n",
        "\n",
        "filtered_1.to_csv('filtered_products.csv', index=False)"
      ],
      "metadata": {
        "id": "Vo3eIAkjmZ2A"
      },
      "execution_count": null,
      "outputs": []
    },
    {
      "cell_type": "code",
      "source": [
        "### 10.Create a histogram using Seaborn to visualize a distribution\n",
        "import seaborn as sns\n",
        "import matplotlib.pyplot as plt\n",
        "import numpy as np\n",
        "import pandas as pd\n",
        "\n",
        "# 1. GENERATE SAMPLE DATA\n",
        "np.random.seed(42)\n",
        "data = pd.DataFrame({\n",
        "    'Scores': np.concatenate([\n",
        "        np.random.normal(70, 10, 500),\n",
        "        np.random.normal(90, 5, 300)\n",
        "    ]),\n",
        "    'Group': ['Class A'] * 500 + ['Class B'] * 300\n",
        "})\n",
        "\n",
        "# 2. CREATE HISTOGRAM PLOT\n",
        "plt.figure(figsize=(10, 6), dpi=100)\n",
        "\n",
        "# Single distribution histogram\n",
        "ax1 = plt.subplot(1, 2, 1)\n",
        "sns.histplot(\n",
        "    data=data,\n",
        "    x='Scores',\n",
        "    bins=30,\n",
        "    kde=True,\n",
        "    color='skyblue',\n",
        "    edgecolor='white',\n",
        "    linewidth=0.5,\n",
        "    alpha=0.8\n",
        ")\n",
        "plt.title('Overall Score Distribution')\n",
        "plt.xlabel('Test Scores')\n",
        "plt.ylabel('Frequency')\n",
        "\n",
        "ax2 = plt.subplot(1, 2, 2)\n",
        "sns.histplot(\n",
        "    data=data,\n",
        "    x='Scores',\n",
        "    hue='Group',\n",
        "    bins=25,\n",
        "    kde=True,\n",
        "    palette=['#FF7F0E', '#1F77B4'],\n",
        "    edgecolor='white',\n",
        "    linewidth=0.3,\n",
        "    alpha=0.6,\n",
        "    element='step'\n",
        "plt.title('Score Distribution by Group')\n",
        "plt.xlabel('Test Scores')\n",
        "plt.ylabel('Frequency')\n",
        "plt.legend(title='Class')\n",
        "\n",
        "# 3. ENHANCE VISUALIZATION\n",
        "plt.suptitle('Exam Score Distributions', y=1.02, fontsize=14)\n",
        "plt.tight_layout()\n",
        "\n",
        "# 4. SAVE AND SHOW\n",
        "plt.savefig('score_distributions.png', bbox_inches='tight', dpi=120)\n",
        "plt.show()"
      ],
      "metadata": {
        "id": "a0LDVNfsmZ-n"
      },
      "execution_count": null,
      "outputs": []
    },
    {
      "cell_type": "code",
      "source": [
        "### 11.Perform matrix multiplication using NumPy\n",
        "import numpy as np\n",
        "\n",
        "\n",
        "matrix_A = np.array([\n",
        "    [1, 2, 3],\n",
        "    [4, 5, 6],\n",
        "    [7, 8, 9]\n",
        "])\n",
        "\n",
        "matrix_B = np.array([\n",
        "    [9, 8, 7],\n",
        "    [6, 5, 4],\n",
        "    [3, 2, 1]\n",
        "])\n",
        "\n",
        "\n",
        "result_1 = matrix_A @ matrix_B\n",
        "\n",
        "result_2 = np.matmul(matrix_A, matrix_B)\n",
        "\n",
        "result_3 = np.dot(matrix_A, matrix_B)\n",
        "\n",
        "print(\"Matrix A:\")\n",
        "print(matrix_A)\n",
        "print(\"\\nMatrix B:\")\n",
        "print(matrix_B)\n",
        "\n",
        "print(\"\\nResult (using @ operator):\")\n",
        "print(result_1)\n",
        "\n",
        "print(\"\\nResult (using np.matmul()):\")\n",
        "print(result_2)\n",
        "\n",
        "print(\"\\nResult (using np.dot()):\")\n",
        "print(result_3)\n",
        "\n",
        "\n",
        "assert np.array_equal(result_1, result_2), \"Results don't match!\"\n",
        "assert np.array_equal(result_1, result_3), \"Results don't match!\"\n",
        "print(\"\\nAll methods produced identical results ✓\")\n",
        "\n",
        "\n",
        "vector = np.array([1, 2, 3])\n",
        "print(\"\\nVector-matrix product:\")\n",
        "print(vector @ matrix_A)\n",
        "\n",
        "\n",
        "batch_A = np.random.rand(5, 3, 4)\n",
        "batch_B = np.random.rand(5, 4, 2)\n",
        "batch_result = np.matmul(batch_A, batch_B)\n",
        "print(\"\\nBatch matrix multiplication shape:\", batch_result.shape)\n"
      ],
      "metadata": {
        "id": "KcaisoNrmaGa"
      },
      "execution_count": null,
      "outputs": []
    },
    {
      "cell_type": "code",
      "source": [
        "### 12. Use Pandas to load a CSV file and display its first 5 rows\n",
        "import pandas as pd\n",
        "\n",
        "\n",
        "file_path = 'data.csv'\n",
        "df = pd.read_csv(file_path)\n",
        "\n",
        "\n",
        "print(\"═══════════════════════════════════════\")\n",
        "print(f\"First 5 rows of '{file_path}':\")\n",
        "print(\"═══════════════════════════════════════\")\n",
        "print(df.head())  # Default shows 5 rows\n",
        "print(\"═══════════════════════════════════════\")\n",
        "\n"
      ],
      "metadata": {
        "id": "ibJ2rvl3maOy"
      },
      "execution_count": null,
      "outputs": []
    },
    {
      "cell_type": "code",
      "source": [
        "### 13.Create a 3D scatter plot using Plotly\n",
        "import plotly.graph_objects as go\n",
        "import numpy as np\n",
        "import pandas as pd\n",
        "\n",
        "np.random.seed(42)\n",
        "n_points = 200\n",
        "\n",
        "df = pd.DataFrame({\n",
        "    'X': np.random.normal(0, 10, n_points),\n",
        "    'Y': np.random.normal(5, 3, n_points),\n",
        "    'Z': np.random.normal(10, 5, n_points),\n",
        "    'Value': np.random.uniform(1, 100, n_points),\n",
        "    'Category': np.random.choice(['A', 'B', 'C'], size=n_points)\n",
        "})\n",
        "\n",
        "fig = go.Figure()\n",
        "\n",
        "\n",
        "for category in df['Category'].unique():\n",
        "    category_data = df[df['Category'] == category]\n",
        "    fig.add_trace(go.Scatter3d(\n",
        "        x=category_data['X'],\n",
        "        y=category_data['Y'],\n",
        "        z=category_data['Z'],\n",
        "        mode='markers',\n",
        "        name=category,\n",
        "        marker=dict(\n",
        "            size=category_data['Value']/10,\n",
        "            color=category_data['Value'],\n",
        "            colorscale='Viridis',\n",
        "            opacity=0.8,\n",
        "            colorbar=dict(title='Value'),\n",
        "        hovertemplate=\n",
        "            '<b>X</b>: %{x:.2f}<br>' +\n",
        "            '<b>Y</b>: %{y:.2f}<br>' +\n",
        "            '<b>Z</b>: %{z:.2f}<br>' +\n",
        "            '<b>Value</b>: %{marker.color:.1f}<extra></extra>'\n",
        "    ))\n",
        "\n",
        "\n",
        "fig.update_layout(\n",
        "    title='<b>Interactive 3D Scatter Plot</b>',\n",
        "    scene=dict(\n",
        "        xaxis_title='X Axis',\n",
        "        yaxis_title='Y Axis',\n",
        "        zaxis_title='Z Axis',\n",
        "        camera=dict(\n",
        "            eye=dict(x=1.5, y=1.5, z=0.1)\n",
        "        )\n",
        "    ),\n",
        "    width=900,\n",
        "    height=700,\n",
        "    margin=dict(l=50, r=50, b=50, t=50),\n",
        "    legend=dict(\n",
        "        yanchor='top',\n",
        "        y=0.99,\n",
        "        xanchor='left',\n",
        "        x=0.01\n",
        "    )\n",
        ")\n",
        "\n",
        "\n",
        "fig.update_layout(\n",
        "    annotations=[\n",
        "        dict(\n",
        "            text=\"Size represents Value<br>Color represents Value\",\n",
        "            xref=\"paper\", yref=\"paper\",\n",
        "            x=0.05, y=0.05,\n",
        "            showarrow=False,\n",
        "            font=dict(size=10)\n",
        "        )\n",
        "    ]\n",
        ")\n",
        "\n",
        "\n",
        "fig.show()"
      ],
      "metadata": {
        "id": "AHKTm7VYmaV6"
      },
      "execution_count": null,
      "outputs": []
    }
  ]
}